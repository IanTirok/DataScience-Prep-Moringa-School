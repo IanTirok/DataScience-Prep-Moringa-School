{
  "nbformat": 4,
  "nbformat_minor": 0,
  "metadata": {
    "colab": {
      "name": "Copy of Python Programming: Conditional (If) Statements",
      "provenance": [],
      "collapsed_sections": [],
      "toc_visible": true,
      "include_colab_link": true
    },
    "kernelspec": {
      "name": "python3",
      "display_name": "Python 3"
    }
  },
  "cells": [
    {
      "cell_type": "markdown",
      "metadata": {
        "id": "view-in-github",
        "colab_type": "text"
      },
      "source": [
        "<a href=\"https://colab.research.google.com/github/IanTirok/DataScience-Prep-Moringa-School/blob/main/Copy_of_Python_Programming_Conditional_(If)_Statements%20-%20Thursday.ipynb\" target=\"_parent\"><img src=\"https://colab.research.google.com/assets/colab-badge.svg\" alt=\"Open In Colab\"/></a>"
      ]
    },
    {
      "cell_type": "markdown",
      "metadata": {
        "id": "56wIrIHaAD6t"
      },
      "source": [
        "<font color=\"green\">*To start working on this notebook, or any other notebook that we will use in this course, we will need to save our own copy of it. We can do this by clicking File > Save a Copy in Drive. We will then be able to make edits to our own copy of this notebook.*</font>"
      ]
    },
    {
      "cell_type": "markdown",
      "metadata": {
        "id": "LVp8C4oB0yzk"
      },
      "source": [
        "# Python Programming: Conditional (If) Statements"
      ]
    },
    {
      "cell_type": "markdown",
      "metadata": {
        "id": "z4xtgHIJ1mui"
      },
      "source": [
        "## 1.0 Overview"
      ]
    },
    {
      "cell_type": "markdown",
      "metadata": {
        "id": "fS6UBkKd2DMo"
      },
      "source": [
        "So as to write useful python programs, we almost always need the ability to check conditions and apply a certain operation accordingly. Conditional statements like the if statement provide us with that ability."
      ]
    },
    {
      "cell_type": "markdown",
      "metadata": {
        "id": "lsZdOcCiAQdJ"
      },
      "source": [
        "##1.1 If"
      ]
    },
    {
      "cell_type": "code",
      "metadata": {
        "id": "-6728JH-2Esz",
        "colab": {
          "base_uri": "https://localhost:8080/"
        },
        "outputId": "928c177a-8edf-44f5-93c3-4b296e73edab"
      },
      "source": [
        "# Example 1\n",
        "# We can write an if statement by using the if keyword as shown:\n",
        "#\n",
        "x = 200\n",
        "y = 100\n",
        "if y < x:\n",
        "  print(\"y is less than x\")"
      ],
      "execution_count": null,
      "outputs": [
        {
          "output_type": "stream",
          "text": [
            "y is less than x\n"
          ],
          "name": "stdout"
        }
      ]
    },
    {
      "cell_type": "code",
      "metadata": {
        "id": "ueDGWWPm2FHW"
      },
      "source": [
        "# Example 2\n",
        "# Below is another example of an if statement\n",
        "#\n",
        "x = 1\n",
        "y = 7\n",
        "\n",
        "# let's find out if x is greater than 7\n",
        "if x > y: \n",
        "  print('yes')"
      ],
      "execution_count": null,
      "outputs": []
    },
    {
      "cell_type": "markdown",
      "metadata": {
        "id": "MB_zJqo-41tc"
      },
      "source": [
        "### <font color=\"green\">1.1 Challenges</font>"
      ]
    },
    {
      "cell_type": "code",
      "metadata": {
        "id": "DD_AaNYQFjQw"
      },
      "source": [
        "# Challenge 1\n",
        "# In our first challenge, we will find out if y is less than 7 \n",
        "# If so, we will print out yes.\n",
        "#\n",
        "\n",
        "# We first declare and assign 1 to variable x and 7 to variable y\n",
        "x = 1\n",
        "y = 7\n",
        "\n",
        "\n",
        "# let's find out if y is less than than 7\n",
        "if y < 7:\n",
        "\n",
        "  print('yes')"
      ],
      "execution_count": null,
      "outputs": []
    },
    {
      "cell_type": "code",
      "metadata": {
        "id": "56hXs9yRFjFb",
        "colab": {
          "base_uri": "https://localhost:8080/"
        },
        "outputId": "3fd501e9-f19d-42d7-f0c0-b210e35d71c2"
      },
      "source": [
        "# Challenge 2\n",
        "# Let's find out if x == true. If so, we will print out yes.\n",
        "# We won't need to declare any variable in this challenge.\n",
        "#\n",
        "\n",
        "\n",
        "if x == True:\n",
        "\n",
        "  print('yes')"
      ],
      "execution_count": null,
      "outputs": [
        {
          "output_type": "stream",
          "text": [
            "yes\n"
          ],
          "name": "stdout"
        }
      ]
    },
    {
      "cell_type": "code",
      "metadata": {
        "id": "b6R-wr4xFp5e"
      },
      "source": [
        "# Challenge 3\n",
        "# Let's find out if y is true. If so, we will print out yes. \n",
        "# We won't need to declare any variable in this challenge as well\n",
        "#\n",
        "\n",
        "\n",
        "if y == True:\n",
        "\n",
        "  print('yes')"
      ],
      "execution_count": null,
      "outputs": []
    },
    {
      "cell_type": "markdown",
      "metadata": {
        "id": "e8-T8Xw-1qYp"
      },
      "source": [
        "## 1.2 Elif"
      ]
    },
    {
      "cell_type": "code",
      "metadata": {
        "id": "ERoyYLdk2MLL",
        "colab": {
          "base_uri": "https://localhost:8080/"
        },
        "outputId": "28de319c-1bca-400b-fb53-1dce8379d314"
      },
      "source": [
        "# Example 1\n",
        "# The elif keyword is a keyword that will try another condition \n",
        "# if the previous condition was not true.\n",
        "# The example below shows how the elif keyword can be used.\n",
        "# \n",
        "x = 33\n",
        "y = 33\n",
        "\n",
        "if y < x:\n",
        "  print(\"y is less than x\")\n",
        "elif x == y:\n",
        "  print(\"x and y are equal\")"
      ],
      "execution_count": null,
      "outputs": [
        {
          "output_type": "stream",
          "text": [
            "x and y are equal\n"
          ],
          "name": "stdout"
        }
      ]
    },
    {
      "cell_type": "code",
      "metadata": {
        "id": "GT8Q7jdf2Mze",
        "colab": {
          "base_uri": "https://localhost:8080/"
        },
        "outputId": "d5eb3365-51c3-4869-d3eb-a05f90ec72c6"
      },
      "source": [
        "# Example 2\n",
        "# This is another example of how the elif keyword can be used.\n",
        "#\n",
        "\n",
        "choice = 'a'\n",
        "\n",
        "if choice == 'a':\n",
        "    print(\"You chose 'a'.\")\n",
        "elif choice == 'b':\n",
        "    print(\"You chose 'b'.\")\n",
        "elif choice == 'c':\n",
        "    print(\"You chose 'c'.\")"
      ],
      "execution_count": null,
      "outputs": [
        {
          "output_type": "stream",
          "text": [
            "You chose 'a'.\n"
          ],
          "name": "stdout"
        }
      ]
    },
    {
      "cell_type": "markdown",
      "metadata": {
        "id": "Rkw7o23I2N3w"
      },
      "source": [
        "### <font color=\"green\">1.2 Challenges </font>"
      ]
    },
    {
      "cell_type": "code",
      "metadata": {
        "id": "4yVpcy0f2RBM",
        "colab": {
          "base_uri": "https://localhost:8080/"
        },
        "outputId": "c6ef7dd2-1950-4061-d960-e2077e94ab8f"
      },
      "source": [
        "# Challenge 1\n",
        "# Let's now write a program that reads an integer \n",
        "# from a user then displays a message indicating \n",
        "# whether the integer is even or odd.\n",
        "#\n",
        "# take input from user\n",
        "input_a = (input(\"Enter a number: \")) \n",
        "input_a = int(input_a) \n",
        "if (input_a % 2) == 0:  \n",
        "   print(\"{0} is Even number\".format(input_a))  \n",
        "elif (input_a % 2) != 0: \n",
        "   print(\"{0} is Odd number\".format(input_a))"
      ],
      "execution_count": null,
      "outputs": [
        {
          "output_type": "stream",
          "text": [
            "Enter a number: 7\n",
            "7 is Odd number\n"
          ],
          "name": "stdout"
        }
      ]
    },
    {
      "cell_type": "code",
      "metadata": {
        "id": "LN1DVYd52R2_",
        "colab": {
          "base_uri": "https://localhost:8080/"
        },
        "outputId": "c723c2be-2cde-43ae-d94a-82f8da5bf233"
      },
      "source": [
        "# Challenge 2: \n",
        "# We now write a program that reads a input from a user. \n",
        "# If the user enters a, e, i, o or u then our program should \n",
        "# display a message indicating that the entered letter is a vowel. \n",
        "# If our user enters y then our program should display a message \n",
        "# indicating that sometimes y is a vowel, and sometimes y is a consonant. \n",
        "# Otherwise our program should display a message indicating that the\n",
        "# letter is a consonant.\n",
        "#\n",
        "# take input from user\n",
        "input_b = (input(\"Enter a letter: \")) \n",
        "\n",
        "if (input_b == 'a' ): \n",
        "    print(\"a is a vowel.\")\n",
        "elif (input_b == 'e'):\n",
        "    print(\"e is a vowel.\")\n",
        "elif (input_b == 'i'):\n",
        "    print(\"i is a vowel.\")\n",
        "elif (input_b == 'o'):\n",
        "    print(\"o is a vowel.\")\n",
        "elif (input_b == 'u'):\n",
        "    print(\"u is a vowel.\")\n",
        "elif (input_b == 'y'):\n",
        "    print(\"sometimes y is a vowel, and sometimes y is a consonant.\")\n",
        "else:\n",
        "    print(input_b, \"is a Consonant\")\n",
        "\n",
        "\n"
      ],
      "execution_count": null,
      "outputs": [
        {
          "output_type": "stream",
          "text": [
            "Enter a letter: b\n",
            "b is a Consonant\n"
          ],
          "name": "stdout"
        }
      ]
    },
    {
      "cell_type": "code",
      "metadata": {
        "id": "WyGQSsN22Rkg",
        "colab": {
          "base_uri": "https://localhost:8080/"
        },
        "outputId": "e01a491a-f056-4d72-eefa-e0afaa1b0ee7"
      },
      "source": [
        "# Challenge 3\n",
        "# Let's now also write another program that asks for a number and computes the\n",
        "# square of that number. If the square is 100 or greater, print the squared value\n",
        "# and the word 'big'. Otherwise if the square is 50 or greater, print the\n",
        "# squared value and the word 'medium'. Otherwise just print 'too small to bother with'.\n",
        "# Hint: To compute squared, use x*x or x**2\n",
        "#\n",
        "# take input from user\n",
        "input_c = (input(\"Enter a number: \")) \n",
        "input_c = int(input_c) \n",
        "\n",
        "Square_c = input_c**2\n",
        "if (Square_c < 50 ): \n",
        "    print(\"The square of your input is too small to bother with.\")\n",
        "elif (Square_c < 100 ):\n",
        "    print(\"The square of your input is medium\")\n",
        "elif (Square_c > 100 ):\n",
        "    print(\"The square of your input is big\")\n",
        "\n"
      ],
      "execution_count": null,
      "outputs": [
        {
          "output_type": "stream",
          "text": [
            "Enter a number: 2\n",
            "The square of your input is too small to bother with.\n"
          ],
          "name": "stdout"
        }
      ]
    },
    {
      "cell_type": "markdown",
      "metadata": {
        "id": "bOZph-F21tuy"
      },
      "source": [
        "## 1.3 Else"
      ]
    },
    {
      "cell_type": "code",
      "metadata": {
        "id": "F8nzCtX82v-A",
        "colab": {
          "base_uri": "https://localhost:8080/"
        },
        "outputId": "d50c20ad-ea65-4975-b050-3e9ad52bebb5"
      },
      "source": [
        "# Example 1\n",
        "# The else keyword will catch anything else which isn't caught by the preceding conditions.\n",
        "# A use case of else keyword is in the following example. \n",
        "#\n",
        "\n",
        "# Declaring our variables\n",
        "x = 134\n",
        "y = 33\n",
        "\n",
        "if y > x:\n",
        "  print(\"y is greater than x\")\n",
        "elif x == y:\n",
        "  print(\"x and y are equal\")\n",
        "else:\n",
        "  print(\"x is greater than y\")"
      ],
      "execution_count": null,
      "outputs": [
        {
          "output_type": "stream",
          "text": [
            "x is greater than y\n"
          ],
          "name": "stdout"
        }
      ]
    },
    {
      "cell_type": "code",
      "metadata": {
        "id": "Zk9b5LJF2wcB",
        "colab": {
          "base_uri": "https://localhost:8080/"
        },
        "outputId": "d4a7aa05-3a49-4a03-a61c-958323586ba6"
      },
      "source": [
        "# Example 2\n",
        "# The else keyword can also be used without elif as shown\n",
        "#\n",
        "\n",
        "# Prompting the user for an input\n",
        "temp_outside = float(input('What is the temperature outside? '))\n",
        "\n",
        "if temp_outside > 12:\n",
        "  print('No need for a sweater')\n",
        "else:\n",
        "  print('You need an sweater') "
      ],
      "execution_count": null,
      "outputs": [
        {
          "output_type": "stream",
          "text": [
            "What is the temperature outside? 100\n",
            "No need for a sweater\n"
          ],
          "name": "stdout"
        }
      ]
    },
    {
      "cell_type": "code",
      "metadata": {
        "id": "HaGipQqmvPXE"
      },
      "source": [
        "# Example 3\n",
        "# We should also note that indentation is significantly important as shown\n",
        "# \n",
        "\n",
        "# Declaring our varioable\n",
        "x = 7\n",
        "\n",
        "if x > 12:\n",
        "    print 'x is greater than 12'\n",
        "    if x >= 17:\n",
        "        print 'x is also at least 17'\n",
        "elif x > 7:\n",
        "    print 'x is greater than 7 but not greater than 12'\n",
        "else:\n",
        "    print 'no condition matched'\n",
        "    print 'so x is 7 or less'"
      ],
      "execution_count": null,
      "outputs": []
    },
    {
      "cell_type": "markdown",
      "metadata": {
        "id": "X5rie0KH2xAp"
      },
      "source": [
        "### <font color=\"green\"> 1.3 Challenges </font>"
      ]
    },
    {
      "cell_type": "code",
      "metadata": {
        "id": "z3TvASOt2zIt",
        "colab": {
          "base_uri": "https://localhost:8080/"
        },
        "outputId": "43981da2-a951-4275-d21a-e1309bc467ec"
      },
      "source": [
        "# Challenge 1\n",
        "# Let's write a program that reads a month and day from the user. \n",
        "# If the month and day matches one of the holidays listed previously \n",
        "# then the program should display the Kenyan holiday’s name. \n",
        "# Otherwise our program should indicate that the entered month and day \n",
        "# do not correspond to a holiday. (You should use the else keyword)\n",
        "#\n",
        "month_mm = int(input ('what month do you want to check - input it in mm format?  '))\n",
        "date_dd = int(input('What date do you want to check? - input it in dd format?  '))\n",
        "\n",
        "if (month_mm == 4 and date_dd == 15):\n",
        "  print('Ians birthday')\n",
        "else:\n",
        "  print('the entered month and date do not correspond to a holiday') "
      ],
      "execution_count": null,
      "outputs": [
        {
          "output_type": "stream",
          "text": [
            "what month do you want to check - input it in mm format?  5\n",
            "What date do you want to check? - input it in dd format?  15\n",
            "the entered month and date do not correspond to a holiday\n"
          ],
          "name": "stdout"
        }
      ]
    },
    {
      "cell_type": "code",
      "metadata": {
        "id": "szGqVsAc2zft",
        "colab": {
          "base_uri": "https://localhost:8080/"
        },
        "outputId": "10a49d01-1889-400d-8680-822145e6b2c3"
      },
      "source": [
        "# Challenge 2\n",
        "# Write a program that reads a wavelength from the user and reports its color. \n",
        "# Display an appropriate error message if the wavelength entered by the user \n",
        "# is outside of the visible spectrum. \n",
        "# (You can do external research on this challenge to determine the wavelength).\n",
        "# You should use the else keyword.\n",
        "#\n",
        "wavelength = int(input ('What wavelength do you want to check?  '))\n",
        "\n",
        "if wavelength > 600:\n",
        "  print(\"wavelength responds to color red\")\n",
        "elif wavelength > 600:\n",
        "  print(\"wavelength responds to color orange\")\n",
        "elif wavelength > 580:\n",
        "  print(\"wavelength responds to color yellow\")\n",
        "elif wavelength > 550:\n",
        "  print(\"wavelength responds to color green\")\n",
        "elif wavelength > 500:\n",
        "  print(\"wavelength responds to color cyan\")\n",
        "elif wavelength > 450:\n",
        "  print(\"wavelength responds to color blue\")\n",
        "elif wavelength > 400:\n",
        "  print(\"wavelength responds to color violet\")\n",
        "\n",
        "else:\n",
        "    print(wavelength, \"is not within the limits\")"
      ],
      "execution_count": null,
      "outputs": [
        {
          "output_type": "stream",
          "text": [
            "What wavelength do you want to check?  540\n",
            "wavelength responds to color cyan\n"
          ],
          "name": "stdout"
        }
      ]
    },
    {
      "cell_type": "code",
      "metadata": {
        "id": "1uHkXVZtuMPK",
        "colab": {
          "base_uri": "https://localhost:8080/"
        },
        "outputId": "5ff844ea-512b-48c3-9390-979b934fb79c"
      },
      "source": [
        "# Challenge 3\n",
        "# Let's create a program that reads the name of a month from the user as a string, \n",
        "# then displays the number of days in that month. \n",
        "# The length of a month varies from 28 to 31 days. \n",
        "# The program needs to also display “28 or 29 days” for February \n",
        "# so that leap years are taken into account.\n",
        "# The program should use the else keyword.\n",
        "# \n",
        "Month = input('What month do you want to check?  ')\n",
        "\n",
        "if Month == 'January':\n",
        "  print(\"This month has 31 days\")\n",
        "elif Month == 'February':\n",
        "  print(\"This month has 28 or 29 days\")\n",
        "elif Month == 'March':\n",
        "  print(\"This month has 31 days\")\n",
        "elif Month == 'April':\n",
        "  print(\"This month has 30 days\")\n",
        "elif Month == 'May':\n",
        "  print(\"This month has 31 daysn\")\n",
        "elif Month == 'June':\n",
        "  print(\"This month has 30 days\")\n",
        "elif Month == 'July':\n",
        "  print(\"This month has 31 days\")\n",
        "elif Month == 'August':\n",
        "  print(\"This month has 31 days\")\n",
        "elif Month == 'September':\n",
        "  print(\"This month has 30 days\")\n",
        "elif Month == 'October':\n",
        "  print(\"This month has 31 days\")\n",
        "elif Month == 'November':\n",
        "  print(\"This month has 30 days\")\n",
        "elif Month == 'December':\n",
        "  print(\"This month has 31 days\")\n",
        "\n",
        "else:\n",
        "  print(Month, \"is not a valid answer, please input January, February, March, April, May, June, July, August, September, October, November or December - It is case sensitive\")"
      ],
      "execution_count": null,
      "outputs": [
        {
          "output_type": "stream",
          "text": [
            "What month do you want to check?  january\n",
            "january is not a valid answer, please input January, February, March, April, May, June, July, August, September, October, November or December - It is case sensitive\n"
          ],
          "name": "stdout"
        }
      ]
    },
    {
      "cell_type": "markdown",
      "metadata": {
        "id": "qs4cjFqC1wm6"
      },
      "source": [
        "## 1.4 And"
      ]
    },
    {
      "cell_type": "code",
      "metadata": {
        "id": "QhXLc8z-2120",
        "colab": {
          "base_uri": "https://localhost:8080/"
        },
        "outputId": "1f4a4d0f-ba8a-4cd8-c74b-a2e71b386ef5"
      },
      "source": [
        "# Example 1\n",
        "# We can also use the and keyword to combine conditional statements.\n",
        "#\n",
        "\n",
        "# Declaring our variables\n",
        "x = 11\n",
        "y = 10\n",
        "z = 12\n",
        "\n",
        "if x > y and z > x:\n",
        "  print(\"Both conditions are True\")"
      ],
      "execution_count": null,
      "outputs": [
        {
          "output_type": "stream",
          "text": [
            "Both conditions are True\n"
          ],
          "name": "stdout"
        }
      ]
    },
    {
      "cell_type": "code",
      "metadata": {
        "id": "fRaI1Odr22lS",
        "colab": {
          "base_uri": "https://localhost:8080/"
        },
        "outputId": "7848f7f0-88aa-4643-b5ca-c3576c1faca5"
      },
      "source": [
        "# Example 2\n",
        "# \n",
        "\n",
        "# Declaring our variables\n",
        "name = \"James\"    \n",
        "age  = 24 \n",
        "\n",
        "if name == \"James\" and age == 24:\n",
        "  print(\"Your name is James, and you are also 24 years old.\")"
      ],
      "execution_count": null,
      "outputs": [
        {
          "output_type": "stream",
          "text": [
            "Your name is James, and you are also 24 years old.\n"
          ],
          "name": "stdout"
        }
      ]
    },
    {
      "cell_type": "code",
      "metadata": {
        "id": "VB5NlzM922Ux",
        "colab": {
          "base_uri": "https://localhost:8080/"
        },
        "outputId": "77328af2-ef24-4757-c4b5-86bdd398a705"
      },
      "source": [
        "# Example 3 \n",
        "#\n",
        "\n",
        "# Declaring our variables\n",
        "name = \"OUR CODE GOES HERE\"      # Let's store our name in the name variable\n",
        "age  =  \"OUR CODE GOES HERE\"        # Let's store our age in the age variable\n",
        "\n",
        "if name == \"James\" and age == 24:\n",
        "  print(\"Your name is James, and you are also 24 years old.\")\n",
        "else: \n",
        "  print(\"You are not James, who is 24 years old.\")"
      ],
      "execution_count": null,
      "outputs": [
        {
          "output_type": "stream",
          "text": [
            "You are not James, who is 24 years old.\n"
          ],
          "name": "stdout"
        }
      ]
    },
    {
      "cell_type": "markdown",
      "metadata": {
        "id": "UAFX7NgF23ab"
      },
      "source": [
        "### <font color=\"green\">1.4 Challenges</font>"
      ]
    },
    {
      "cell_type": "code",
      "metadata": {
        "id": "g26Rql1z25Ff",
        "colab": {
          "base_uri": "https://localhost:8080/"
        },
        "outputId": "ee40c47e-e91c-4e6c-feb5-bdb81a734f02"
      },
      "source": [
        "# Challenge 1:\n",
        "# Given the 3 sides of a triangle x, y and z, let's find out \n",
        "# whether the triangle is equilateral, isosceles or obtuse.\n",
        "# Note: An equilateral triagnle has all sides are equal, \n",
        "# isosceles means that two of the sides are equal but not the third one, \n",
        "# obtuse means all 3 are different. The user will be prompted \n",
        "# to provide the values of x, y and z\n",
        "# \n",
        "x = int( input('What is the length of side x of the triangle?  '))\n",
        "y = int( input('What is the length of side y of the triangle?  '))\n",
        "z = int( input('What is the length of side z of the triangle?  '))\n",
        "\n",
        "if x == y and y == z and x == z:\n",
        "  print(\"you have an equilateral triangle\")\n",
        "elif x != y and y != z and x != z:\n",
        "  print(\"you have an obtuse triangle\")\n",
        "else:\n",
        "  print(\"you have an isosceles triangle\")\n"
      ],
      "execution_count": null,
      "outputs": [
        {
          "output_type": "stream",
          "text": [
            "What is the length of side x of the triangle?  9\n",
            "What is the length of side y of the triangle?  9\n",
            "What is the length of side z of the triangle?  6\n",
            "you have an isosceles triangle\n"
          ],
          "name": "stdout"
        }
      ]
    },
    {
      "cell_type": "markdown",
      "metadata": {
        "id": "GLyWRU4w11-M"
      },
      "source": [
        "## 1.5 Or"
      ]
    },
    {
      "cell_type": "code",
      "metadata": {
        "id": "jIyeUjAq3D2n",
        "colab": {
          "base_uri": "https://localhost:8080/"
        },
        "outputId": "8b48f47d-6900-4eff-ea35-2fb80485615f"
      },
      "source": [
        "# Example 1\n",
        "# We can also use the if keyword to combine conditional statements. \n",
        "#\n",
        "\n",
        "# Declaring our variables\n",
        "x = 10\n",
        "y = 11\n",
        "z = 9\n",
        "\n",
        "if x > y or x > z:\n",
        "  print(\"At least one of the conditions is True\")"
      ],
      "execution_count": null,
      "outputs": [
        {
          "output_type": "stream",
          "text": [
            "At least one of the conditions is True\n"
          ],
          "name": "stdout"
        }
      ]
    },
    {
      "cell_type": "code",
      "metadata": {
        "id": "bq7T-If83FVy",
        "colab": {
          "base_uri": "https://localhost:8080/"
        },
        "outputId": "17fb338c-4718-4c07-c92e-6115c4484efe"
      },
      "source": [
        "# Example 2\n",
        "#\n",
        "\n",
        "# Declaring our variables\n",
        "x = int(input(\"Enter value of x = \"))\n",
        "y = int(input(\"Enter value of y = \"))\n",
        " \n",
        "if (x >= 15) or (y <= 25):\n",
        "  print(\"x >= 15 or y <= 25 so if statement is True\")\n",
        "else:\n",
        "  print(\"Value of x < 15 and y > 25 so if statement is False!\")"
      ],
      "execution_count": null,
      "outputs": [
        {
          "output_type": "stream",
          "text": [
            "Enter value of x = 20\n",
            "Enter value of y = 15\n",
            "x >= 15 or y <= 25 so if statement is True\n"
          ],
          "name": "stdout"
        }
      ]
    },
    {
      "cell_type": "code",
      "metadata": {
        "id": "FN29xkMq3FnA",
        "colab": {
          "base_uri": "https://localhost:8080/"
        },
        "outputId": "e2973908-65fb-4e31-9b7b-8ee4bfd019b5"
      },
      "source": [
        "# Example 3\n",
        "#\n",
        "\n",
        "# Declaring our variables\n",
        "w = 10\n",
        "x = 15\n",
        "y = 20\n",
        "z = 25\n",
        " \n",
        "if (w == 10 or x == 15) and (y == 16 or z == 25):\n",
        "  print(\"If statement is True\")\n",
        "else:\n",
        "  print(\"False\")"
      ],
      "execution_count": null,
      "outputs": [
        {
          "output_type": "stream",
          "text": [
            "If statement is True\n"
          ],
          "name": "stdout"
        }
      ]
    },
    {
      "cell_type": "markdown",
      "metadata": {
        "id": "TNIQRbN-3GNh"
      },
      "source": [
        "### <font color=\"green\">1.5 Challenges</font>"
      ]
    },
    {
      "cell_type": "code",
      "metadata": {
        "id": "Vhx4FY_P3J93",
        "colab": {
          "base_uri": "https://localhost:8080/"
        },
        "outputId": "4dcf0b34-6567-4cd2-cb71-706a36ed78c6"
      },
      "source": [
        "# Challenge 1\n",
        "# Using the Or operator, let's create a function \n",
        "# that determines the type of a triangle \n",
        "# based on the lengths of its sides. A user will be inputting\n",
        "# the sides of the triange\n",
        "#\n",
        "x = int( input('What is the length of side x of the triangle?  '))\n",
        "y = int( input('What is the length of side y of the triangle?  '))\n",
        "z = int( input('What is the length of side z of the triangle?  '))\n",
        "\n",
        "if (x == y and y == z and x == z):\n",
        "  print(\"you have an equilateral triangle\")\n",
        "elif x != y and y != z and x != z:\n",
        "  print(\"you have an obtuse triangle\")\n",
        "elif (x == y and x != z) or (x == z and x != y):\n",
        "\n",
        "  print(\"you have an isosceles triangle\")"
      ],
      "execution_count": null,
      "outputs": [
        {
          "output_type": "stream",
          "text": [
            "What is the length of side x of the triangle?  9\n",
            "What is the length of side y of the triangle?  9\n",
            "What is the length of side z of the triangle?  9\n",
            "you have an equilateral triangle\n"
          ],
          "name": "stdout"
        }
      ]
    },
    {
      "cell_type": "code",
      "metadata": {
        "id": "VVh8NAu83KW6",
        "colab": {
          "base_uri": "https://localhost:8080/"
        },
        "outputId": "f706cc0d-1c52-4d68-bf30-9ae487354036"
      },
      "source": [
        "9# Challenge 2\n",
        "# Using the Or operator, let's create a function \n",
        "# that checks whether a number given \n",
        "# by a user is greater than 30 or greater than 100. \n",
        "#\n",
        "input_y = int( input('What number would you like to check?  '))\n",
        "\n",
        "y == 30\n",
        "x == 100\n",
        "if (input_y > y) or (input_y < x):\n",
        "  print (\"Your input is greater than 30 but less than 100\")\n",
        "\n",
        "elif (input_y > x):\n",
        "\n",
        "  print (\"Your input is greater than 30 and greater than 100\")\n",
        "\n"
      ],
      "execution_count": null,
      "outputs": [
        {
          "output_type": "stream",
          "text": [
            "What number would you like to check?  101\n",
            "Your input is greater than 30 but less than 100\n"
          ],
          "name": "stdout"
        }
      ]
    },
    {
      "cell_type": "code",
      "metadata": {
        "id": "5sMQVqPQtUaO",
        "colab": {
          "base_uri": "https://localhost:8080/"
        },
        "outputId": "1f79e446-b5f5-47fe-933a-e7c165cca77a"
      },
      "source": [
        "# Challenge 3\n",
        "# Let's write a program that prompts a letter from a user. \n",
        "# When any of the letters a, e, i, o or u are entered, \n",
        "# then your program should display a message indicating that the entered letter is a vowel. \n",
        "# If the user enters y then your program should display a message \n",
        "# indicating that sometimes y is a vowel, and sometimes y is a consonant. \n",
        "# Else the program should display a message indicating that the letter is a consonant.\n",
        "#\n",
        "\n",
        "input_z = str( input('What letter would you like to check?  '))\n",
        "\n",
        "if (input_z == 'a' or input_z == 'e' or input_z == 'i' or input_z == 'o' or input_z =='u' ): \n",
        "    print(input_z, \"is a vowel.\")\n",
        "elif (input_z == 'y'):\n",
        "    print(\"sometimes y is a vowel, and sometimes y is a consonant.\")\n",
        "else:\n",
        "    print(input_z, \"is a Consonant\")"
      ],
      "execution_count": null,
      "outputs": [
        {
          "output_type": "stream",
          "text": [
            "What letter would you like to check?  x\n",
            "x is a Consonant\n"
          ],
          "name": "stdout"
        }
      ]
    },
    {
      "cell_type": "code",
      "metadata": {
        "id": "JAfGcOHfPrhr"
      },
      "source": [
        ""
      ],
      "execution_count": null,
      "outputs": []
    }
  ]
}