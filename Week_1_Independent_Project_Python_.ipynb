{
  "nbformat": 4,
  "nbformat_minor": 0,
  "metadata": {
    "colab": {
      "name": "Week 1 Independent Project Python .ipynb",
      "provenance": [],
      "authorship_tag": "ABX9TyPQa6sdDAFvftTuhsqm3DVn",
      "include_colab_link": true
    },
    "kernelspec": {
      "name": "python3",
      "display_name": "Python 3"
    },
    "language_info": {
      "name": "python"
    }
  },
  "cells": [
    {
      "cell_type": "markdown",
      "metadata": {
        "id": "view-in-github",
        "colab_type": "text"
      },
      "source": [
        "<a href=\"https://colab.research.google.com/github/IanTirok/DataScience-Prep-Moringa-School/blob/main/Week_1_Independent_Project_Python_.ipynb\" target=\"_parent\"><img src=\"https://colab.research.google.com/assets/colab-badge.svg\" alt=\"Open In Colab\"/></a>"
      ]
    },
    {
      "cell_type": "markdown",
      "metadata": {
        "id": "gUzWMrWgxYL6"
      },
      "source": [
        "POUND TO KG PROGRAM"
      ]
    },
    {
      "cell_type": "code",
      "metadata": {
        "colab": {
          "base_uri": "https://localhost:8080/"
        },
        "id": "jDUXNn-ExR8X",
        "outputId": "ac23d043-dcf6-47ca-cbd7-cda3488bc556"
      },
      "source": [
        "#Declaring varibles\n",
        "#Getting input from the user\n",
        "\n",
        "pound_1 = float (input('What is the first figure you want to convert from Pounds to KGs?     '))\n",
        "pound_2 = float (input('what is the second figure you want to convert from pounds to KGs?      '))\n",
        "\n",
        "conversion_factor =  float (0.45359237)\n",
        "\n",
        "#Converting Pounds to KG\n",
        "kg1 = float (pound_1 * conversion_factor)\n",
        "kg2 = float (pound_2 * conversion_factor)\n",
        "#Print output\n",
        "print (\"your first input converted to kgs  is:   \" ,kg1 ) \n",
        "print (\"your second input converted to kgs  is:   \" ,kg2 ) \n"
      ],
      "execution_count": 10,
      "outputs": [
        {
          "output_type": "stream",
          "text": [
            "What is the first figure you want to convert from Pounds to KGs?     220\n",
            "what is the second figure you want to convert from pounds to KGs?      330\n",
            "your first input converted to kgs  is:    99.79032140000001\n",
            "your second input converted to kgs  is:    149.6854821\n"
          ],
          "name": "stdout"
        }
      ]
    },
    {
      "cell_type": "markdown",
      "metadata": {
        "id": "tsJRpVmW13Hz"
      },
      "source": [
        "PERFORM THE SUM OF VALUES"
      ]
    },
    {
      "cell_type": "code",
      "metadata": {
        "colab": {
          "base_uri": "https://localhost:8080/"
        },
        "id": "_kQv223gypai",
        "outputId": "4f60e5c6-c037-48ca-c276-336a334b754d"
      },
      "source": [
        "#Declaring variables\n",
        "\n",
        "x = int (32473478438)\n",
        "y = int (47293891109)\n",
        "\n",
        "#Calculations\n",
        "\n",
        "z = int (x + y)\n",
        "\n",
        "#Print Output\n",
        "\n",
        "print(z)"
      ],
      "execution_count": 15,
      "outputs": [
        {
          "output_type": "stream",
          "text": [
            "79767369547\n"
          ],
          "name": "stdout"
        }
      ]
    },
    {
      "cell_type": "markdown",
      "metadata": {
        "id": "MhIKtkg92xOE"
      },
      "source": [
        "PERFORM THE AVERAGE OF VALUES\n"
      ]
    },
    {
      "cell_type": "code",
      "metadata": {
        "colab": {
          "base_uri": "https://localhost:8080/"
        },
        "id": "OY5mFrVY2p_H",
        "outputId": "664522a1-6ff0-46c8-daf4-284370ffc5e3"
      },
      "source": [
        "#Getting user input\n",
        "#Declare variables\n",
        "\n",
        "value_1 = int (input('Input the first value that you want to get an average of      '))\n",
        "value_2 = int (input('Input the second value that you want to get an average of      '))\n",
        "\n",
        "#Calculations\n",
        "\n",
        "ave_value = float((value_1+value_2)/2)\n",
        "\n",
        "#Print output\n",
        "\n",
        "print(\"The average of the two values is   \", ave_value)\n",
        "\n"
      ],
      "execution_count": 21,
      "outputs": [
        {
          "output_type": "stream",
          "text": [
            "Input the first value that you want to get an average of      40\n",
            "Input the second value that you want to get an average of      30\n",
            "The average of the two values is    35.0\n"
          ],
          "name": "stdout"
        }
      ]
    },
    {
      "cell_type": "markdown",
      "metadata": {
        "id": "SRE_Ydhi4RFC"
      },
      "source": [
        "FIND THE DIFFERENCE BETWEEN THE TWO VALUES"
      ]
    },
    {
      "cell_type": "code",
      "metadata": {
        "colab": {
          "base_uri": "https://localhost:8080/"
        },
        "id": "HVrJDEHu36BG",
        "outputId": "573e904f-590c-46ea-be3d-09b254f659aa"
      },
      "source": [
        "#Calculations\n",
        "\n",
        "Difference = float(value_1 - value_2)\n",
        "\n",
        "#Print Output\n",
        "\n",
        "print (Difference)"
      ],
      "execution_count": 23,
      "outputs": [
        {
          "output_type": "stream",
          "text": [
            "10.0\n"
          ],
          "name": "stdout"
        }
      ]
    },
    {
      "cell_type": "markdown",
      "metadata": {
        "id": "wQWeKa9r5JzB"
      },
      "source": [
        "FIND THE QUOTIENT VALUE"
      ]
    },
    {
      "cell_type": "code",
      "metadata": {
        "colab": {
          "base_uri": "https://localhost:8080/"
        },
        "id": "0czL3s3746k_",
        "outputId": "99aba11c-355a-42b1-af99-4270bd29ef1b"
      },
      "source": [
        "#When One value is divided by the other\n",
        "#Calculations\n",
        "\n",
        "Quotient = float (x/y)\n",
        "\n",
        "#Print Output\n",
        "\n",
        "print (Quotient)"
      ],
      "execution_count": 24,
      "outputs": [
        {
          "output_type": "stream",
          "text": [
            "0.6866315643844394\n"
          ],
          "name": "stdout"
        }
      ]
    },
    {
      "cell_type": "markdown",
      "metadata": {
        "id": "6z0dH2JS6KIS"
      },
      "source": [
        "DETERMINE AND PRINT EVEN OR ODD NUMBERS"
      ]
    },
    {
      "cell_type": "code",
      "metadata": {
        "colab": {
          "base_uri": "https://localhost:8080/"
        },
        "id": "kWwAGzw75nQW",
        "outputId": "91b06a79-8b48-4dac-9ea4-4f200b99bfd6"
      },
      "source": [
        "#Getting User Input\n",
        "\n",
        "value_3 = int (input('Input the value you want to test whether even or odd      '))\n",
        "\n",
        "#Calculations and printing output\n",
        "\n",
        "if (value_3 % 2) == 0:\n",
        "  print (\"{0} is Even number\". format(value_3))\n",
        "else:\n",
        "  print (\"{0} is Odd number\". format(value_3))\n",
        "\n",
        "\n"
      ],
      "execution_count": 28,
      "outputs": [
        {
          "output_type": "stream",
          "text": [
            "Input the value you want to test whether even or odd      40\n",
            "40 is Even number\n"
          ],
          "name": "stdout"
        }
      ]
    },
    {
      "cell_type": "markdown",
      "metadata": {
        "id": "qYWRl-BE74K1"
      },
      "source": [
        ""
      ]
    },
    {
      "cell_type": "markdown",
      "metadata": {
        "id": "aJCxk6RD7nyU"
      },
      "source": [
        ""
      ]
    },
    {
      "cell_type": "code",
      "metadata": {
        "id": "1A4Q57Sc7ST7"
      },
      "source": [
        ""
      ],
      "execution_count": null,
      "outputs": []
    }
  ]
}